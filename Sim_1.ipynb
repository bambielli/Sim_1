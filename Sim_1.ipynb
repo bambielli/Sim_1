{
  "nbformat": 4,
  "nbformat_minor": 0,
  "metadata": {
    "colab": {
      "name": "Sim_1.ipynb",
      "version": "0.3.2",
      "provenance": [],
      "collapsed_sections": [],
      "include_colab_link": true
    },
    "language_info": {
      "codemirror_mode": {
        "name": "ipython",
        "version": 3
      },
      "file_extension": ".py",
      "mimetype": "text/x-python",
      "name": "python",
      "nbconvert_exporter": "python",
      "pygments_lexer": "ipython3",
      "version": "3.7.1"
    },
    "kernelspec": {
      "display_name": "Python 3",
      "language": "python",
      "name": "python3"
    }
  },
  "cells": [
    {
      "cell_type": "markdown",
      "metadata": {
        "id": "view-in-github",
        "colab_type": "text"
      },
      "source": [
        "<a href=\"https://colab.research.google.com/github/bambielli/Sim_1/blob/master/Sim_1.ipynb\" target=\"_parent\"><img src=\"https://colab.research.google.com/assets/colab-badge.svg\" alt=\"Open In Colab\"/></a>"
      ]
    },
    {
      "metadata": {
        "id": "9wBVfSIaisGP",
        "colab_type": "text"
      },
      "cell_type": "markdown",
      "source": [
        "# Support Center Queue\n",
        "\n",
        "Jill manages a software support center.  Jill wants to run an analysis on how long support requests remain in the system before getting resolved.  Collecting some stats and showing a Histogram of request time in system seems like a nice outcome.  Jill has data of when each request enters the system, and when each request is resolved.  To test her methodology she will use the following dataset and make the following assumptions:\n",
        "\n",
        "- Jobs arrive, are processed, and complete only at integral units of minutes\n",
        "- Request arrival times:  `0, 5, 10, 12, 14, 15, 55`\n",
        "- Server times for each request, that is, time to resolve once started: `4, 4, 10, 10, 10, 10, 1`\n",
        "- There is a single support staff that processes requests First-In-First-Out (FIFO)\n",
        "\n",
        "this is a test"
      ]
    },
    {
      "metadata": {
        "id": "b8SIbC7VisGQ",
        "colab_type": "text"
      },
      "cell_type": "markdown",
      "source": [
        "## Let's load up some common code modules before we begin"
      ]
    },
    {
      "metadata": {
        "id": "z422aImeisGS",
        "colab_type": "code",
        "cellView": "code",
        "colab": {}
      },
      "cell_type": "code",
      "source": [
        "import numpy as np\n",
        "import matplotlib.pyplot as plt\n",
        "from pprint import pprint"
      ],
      "execution_count": 0,
      "outputs": []
    },
    {
      "metadata": {
        "id": "R3Xkf3EYisGa",
        "colab_type": "text"
      },
      "cell_type": "markdown",
      "source": [
        "## Let's load our data into Python data structures"
      ]
    },
    {
      "metadata": {
        "id": "4PCbLD7sisGb",
        "colab_type": "code",
        "outputId": "5c04cbcc-f9fb-49d9-bc39-9c9096a71ca9",
        "colab": {
          "base_uri": "https://localhost:8080/",
          "height": 34
        }
      },
      "cell_type": "code",
      "source": [
        "# arrival_times is a Python list\n",
        "arrival_times = [0, 5, 10, 12, 14, 15, 55]\n",
        "pprint(arrival_times)"
      ],
      "execution_count": 0,
      "outputs": [
        {
          "output_type": "stream",
          "text": [
            "[0, 5, 10, 12, 14, 15, 55]\n"
          ],
          "name": "stdout"
        }
      ]
    },
    {
      "metadata": {
        "id": "Zd09Tz2tisGe",
        "colab_type": "code",
        "outputId": "a25cbef0-7d10-4490-c8f0-1106b2f21f03",
        "colab": {
          "base_uri": "https://localhost:8080/",
          "height": 34
        }
      },
      "cell_type": "code",
      "source": [
        "# service_times is a Python list\n",
        "service_times = [4, 4, 10, 10, 10, 10, 1]\n",
        "pprint(service_times)"
      ],
      "execution_count": 0,
      "outputs": [
        {
          "output_type": "stream",
          "text": [
            "[4, 4, 10, 10, 10, 10, 1]\n"
          ],
          "name": "stdout"
        }
      ]
    },
    {
      "metadata": {
        "id": "FBV4Bt_-isGh",
        "colab_type": "text"
      },
      "cell_type": "markdown",
      "source": [
        "## Let's make each job its own \"data bundle\", an object, in particular a Python Dictionary object"
      ]
    },
    {
      "metadata": {
        "id": "k4PF_Q2eisGi",
        "colab_type": "text"
      },
      "cell_type": "markdown",
      "source": [
        "### We will first put all of these job objects into a new list called, `arrival_jobs`"
      ]
    },
    {
      "metadata": {
        "id": "PSvouzF8isGj",
        "colab_type": "code",
        "outputId": "38a639c8-2e0d-4e34-ea57-901c2f84ce44",
        "colab": {
          "base_uri": "https://localhost:8080/",
          "height": 153
        }
      },
      "cell_type": "code",
      "source": [
        "arrival_jobs = []\n",
        "# loop through all `arrival_times` and for each, create a new job\n",
        "for arrival_tm in arrival_times:\n",
        "    # create a job object\n",
        "    new_job = {'arrival_time': arrival_tm, 'service_completion_time': None}\n",
        "    # add the job object to the arrival_jobs list\n",
        "    arrival_jobs.append(new_job)\n",
        "    \n",
        "pprint(arrival_jobs)\n",
        "# Let's print out the arrival time of the second job\n",
        "print('Arrival time of second job: ',arrival_jobs[1]['arrival_time'])"
      ],
      "execution_count": 0,
      "outputs": [
        {
          "output_type": "stream",
          "text": [
            "[{'arrival_time': 0, 'service_completion_time': None},\n",
            " {'arrival_time': 5, 'service_completion_time': None},\n",
            " {'arrival_time': 10, 'service_completion_time': None},\n",
            " {'arrival_time': 12, 'service_completion_time': None},\n",
            " {'arrival_time': 14, 'service_completion_time': None},\n",
            " {'arrival_time': 15, 'service_completion_time': None},\n",
            " {'arrival_time': 55, 'service_completion_time': None}]\n",
            "Arrival time of second job:  5\n"
          ],
          "name": "stdout"
        }
      ]
    },
    {
      "metadata": {
        "id": "d7gaHTBqisGo",
        "colab_type": "text"
      },
      "cell_type": "markdown",
      "source": [
        "## Let's create a couple of more data structures that will be useful for our simulation"
      ]
    },
    {
      "metadata": {
        "id": "bkn_XYW7isGq",
        "colab_type": "code",
        "colab": {}
      },
      "cell_type": "code",
      "source": [
        "# job_queue is a list to hold jobs that have arrived and are waiting for service\n",
        "jobs_in_queue = []\n",
        "# A variable that holds None or job in service\n",
        "job_in_service = None\n",
        "# job_completion_times is a list holding when jobs complete service\n",
        "completed_jobs = []"
      ],
      "execution_count": 0,
      "outputs": []
    },
    {
      "metadata": {
        "id": "hOpeH8xUisGu",
        "colab_type": "text"
      },
      "cell_type": "markdown",
      "source": [
        "## We will now loop through time, with a variable called  `time_period`"
      ]
    },
    {
      "metadata": {
        "scrolled": false,
        "id": "S79dsVKpisGv",
        "colab_type": "code",
        "outputId": "5ee79058-d86e-456f-a493-d4ef6375657a",
        "colab": {
          "base_uri": "https://localhost:8080/",
          "height": 1343
        }
      },
      "cell_type": "code",
      "source": [
        "#  We will increment time_period as simulation proceeds\n",
        "time_period = 0\n",
        "TOTAL_NUMBER_OF_JOBS = len(arrival_times)\n",
        "#  We will run our simulation until all jobs have departed service\n",
        "while len(completed_jobs) < TOTAL_NUMBER_OF_JOBS:\n",
        "    print('Time Period:',time_period)\n",
        "    #\n",
        "    # PROCESS POSSIBLE ARRIVAL TO QUEUE\n",
        "    # Note: First make sure arriva_times list is not empty\n",
        "    #       Then, see if next arrival is now .. current time_period\n",
        "    if (len(arrival_jobs) > 0 and arrival_jobs[0]['arrival_time'] == time_period):\n",
        "        print('** Process Arrival at time',time_period)\n",
        "        \n",
        "        # remove first job from arrival_jobs\n",
        "        job_moving_to_queue = arrival_jobs.pop(0)\n",
        "        # append job to end of jobs_in_queue\n",
        "        jobs_in_queue.append(job_moving_to_queue)\n",
        "    #\n",
        "    # PROCESS POSSIBLE SERVICE COMPLETION\n",
        "    if (job_in_service != None and job_in_service[\"service_completion_time\"]==time_period):\n",
        "        print('** Process Departure at time',time_period)\n",
        "        # add job to departure_times list\n",
        "        completed_jobs.append(job_in_service)\n",
        "        # Free up our server\n",
        "        job_in_service = None\n",
        "    #\n",
        "    # PROCESS POSSIBLE START OF SERVICE, DEPARTURE FROM QUEUE\n",
        "    if (job_in_service==None and len(jobs_in_queue) > 0):\n",
        "        print('** Process Start of Service at time:',time_period)\n",
        "        # remove first job from queue\n",
        "        job_in_service = jobs_in_queue.pop(0)\n",
        "        # Place in service by setting service_completion_time\n",
        "        # Pop the next service time off the service_times list, and we'll save it in the job dictionary\n",
        "        job_in_service[\"service_time\"] = service_times.pop(0)\n",
        "        job_in_service[\"service_completion_time\"] = time_period +  job_in_service[\"service_time\"]\n",
        "    #\n",
        "    # Increment the time_period before going back to top of loop\n",
        "    time_period += 1"
      ],
      "execution_count": 0,
      "outputs": [
        {
          "output_type": "stream",
          "text": [
            "Time Period: 0\n",
            "** Process Arrival at time 0\n",
            "** Process Start of Service at time: 0\n",
            "Time Period: 1\n",
            "Time Period: 2\n",
            "Time Period: 3\n",
            "Time Period: 4\n",
            "** Process Departure at time 4\n",
            "Time Period: 5\n",
            "** Process Arrival at time 5\n",
            "** Process Start of Service at time: 5\n",
            "Time Period: 6\n",
            "Time Period: 7\n",
            "Time Period: 8\n",
            "Time Period: 9\n",
            "** Process Departure at time 9\n",
            "Time Period: 10\n",
            "** Process Arrival at time 10\n",
            "** Process Start of Service at time: 10\n",
            "Time Period: 11\n",
            "Time Period: 12\n",
            "** Process Arrival at time 12\n",
            "Time Period: 13\n",
            "Time Period: 14\n",
            "** Process Arrival at time 14\n",
            "Time Period: 15\n",
            "** Process Arrival at time 15\n",
            "Time Period: 16\n",
            "Time Period: 17\n",
            "Time Period: 18\n",
            "Time Period: 19\n",
            "Time Period: 20\n",
            "** Process Departure at time 20\n",
            "** Process Start of Service at time: 20\n",
            "Time Period: 21\n",
            "Time Period: 22\n",
            "Time Period: 23\n",
            "Time Period: 24\n",
            "Time Period: 25\n",
            "Time Period: 26\n",
            "Time Period: 27\n",
            "Time Period: 28\n",
            "Time Period: 29\n",
            "Time Period: 30\n",
            "** Process Departure at time 30\n",
            "** Process Start of Service at time: 30\n",
            "Time Period: 31\n",
            "Time Period: 32\n",
            "Time Period: 33\n",
            "Time Period: 34\n",
            "Time Period: 35\n",
            "Time Period: 36\n",
            "Time Period: 37\n",
            "Time Period: 38\n",
            "Time Period: 39\n",
            "Time Period: 40\n",
            "** Process Departure at time 40\n",
            "** Process Start of Service at time: 40\n",
            "Time Period: 41\n",
            "Time Period: 42\n",
            "Time Period: 43\n",
            "Time Period: 44\n",
            "Time Period: 45\n",
            "Time Period: 46\n",
            "Time Period: 47\n",
            "Time Period: 48\n",
            "Time Period: 49\n",
            "Time Period: 50\n",
            "** Process Departure at time 50\n",
            "Time Period: 51\n",
            "Time Period: 52\n",
            "Time Period: 53\n",
            "Time Period: 54\n",
            "Time Period: 55\n",
            "** Process Arrival at time 55\n",
            "** Process Start of Service at time: 55\n",
            "Time Period: 56\n",
            "** Process Departure at time 56\n"
          ],
          "name": "stdout"
        }
      ]
    },
    {
      "metadata": {
        "id": "3sqW0a5VisG0",
        "colab_type": "code",
        "colab": {}
      },
      "cell_type": "code",
      "source": [
        "pprint(completed_jobs[:20],indent=4)"
      ],
      "execution_count": 0,
      "outputs": []
    },
    {
      "metadata": {
        "id": "wtptKFn-isG3",
        "colab_type": "text"
      },
      "cell_type": "markdown",
      "source": [
        "## Let's gather up the total times in the system and store them in the list, `system_time`"
      ]
    },
    {
      "metadata": {
        "id": "r3eXd6OFisG4",
        "colab_type": "code",
        "colab": {}
      },
      "cell_type": "code",
      "source": [
        "system_time=[]\n",
        "for job in completed_jobs:\n",
        "    system_time.append(job['service_completion_time']-job['arrival_time'])\n",
        "#\n",
        "pprint(system_time)"
      ],
      "execution_count": 0,
      "outputs": []
    },
    {
      "metadata": {
        "id": "6O02CYoZisG-",
        "colab_type": "code",
        "colab": {}
      },
      "cell_type": "code",
      "source": [
        "print('The average system time is:',np.mean(system_time))"
      ],
      "execution_count": 0,
      "outputs": []
    },
    {
      "metadata": {
        "id": "vSVskcnfisHB",
        "colab_type": "code",
        "colab": {}
      },
      "cell_type": "code",
      "source": [
        "# Tinker with number of bins, until it looks right\n",
        "plt.hist(system_time,bins=36)\n",
        "# you can customize the exact tick marks on an axis\n",
        "plt.yticks(range(0,3))\n",
        "plt.ylabel('Frequency');\n",
        "plt.xlabel('Time in System');"
      ],
      "execution_count": 0,
      "outputs": []
    },
    {
      "metadata": {
        "id": "OoQVNEQ0isHG",
        "colab_type": "text"
      },
      "cell_type": "markdown",
      "source": [
        "## The NumPy package provides lots of statistical methods, we call it with `np`"
      ]
    },
    {
      "metadata": {
        "id": "Hia8PuysisHH",
        "colab_type": "code",
        "colab": {}
      },
      "cell_type": "code",
      "source": [
        "np.max(system_time)"
      ],
      "execution_count": 0,
      "outputs": []
    },
    {
      "metadata": {
        "id": "SVOlZBYzisHM",
        "colab_type": "code",
        "colab": {}
      },
      "cell_type": "code",
      "source": [
        "# 50th percentile, or median\n",
        "np.percentile(system_time,50)"
      ],
      "execution_count": 0,
      "outputs": []
    },
    {
      "metadata": {
        "id": "To0j3Y0OisHR",
        "colab_type": "code",
        "colab": {}
      },
      "cell_type": "code",
      "source": [
        "np.median(system_time)"
      ],
      "execution_count": 0,
      "outputs": []
    },
    {
      "metadata": {
        "id": "-ZbmKabjisHV",
        "colab_type": "code",
        "colab": {}
      },
      "cell_type": "code",
      "source": [
        "np.std(system_time)"
      ],
      "execution_count": 0,
      "outputs": []
    },
    {
      "metadata": {
        "id": "Do65uyL-isHd",
        "colab_type": "text"
      },
      "cell_type": "markdown",
      "source": [
        "# Support Center: Homework\n",
        "\n",
        "Add to this notebook to answer the following:\n",
        "\n",
        "1. Consider the number of jobs in the queue over time, from 0 until all jobs are completed\n",
        "  - What is the average number of jobs in the queue?\n",
        "  - Form a histogram of the number of jobs in the queue\n",
        "  \n",
        "\n"
      ]
    }
  ]
}